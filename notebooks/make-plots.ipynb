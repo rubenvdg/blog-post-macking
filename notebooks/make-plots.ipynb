{
 "cells": [
  {
   "cell_type": "code",
   "execution_count": 1,
   "id": "bf9a44c1-e0c5-4f95-90de-a35e74a504fe",
   "metadata": {},
   "outputs": [],
   "source": [
    "import pandas as pd\n",
    "from pathlib import Path"
   ]
  },
  {
   "cell_type": "code",
   "execution_count": 2,
   "id": "1516318d-2aa5-4efb-9e03-b980594026b6",
   "metadata": {},
   "outputs": [],
   "source": [
    "file_name = None  # fill in file name with results here"
   ]
  },
  {
   "cell_type": "markdown",
   "id": "727ecb19-5e28-4c6f-85b8-c07bfab5fb88",
   "metadata": {},
   "source": [
    "### Read the data"
   ]
  },
  {
   "cell_type": "code",
   "execution_count": 3,
   "id": "23c13e87-def1-49da-b56b-b232e6c8e6a2",
   "metadata": {},
   "outputs": [],
   "source": [
    "results = (\n",
    "    pd.read_parquet(f\"../results/{file_name}\")\n",
    "    .reset_index()\n",
    "    .assign(\n",
    "        horizon=lambda df: df[\"date\"].subtract(df[\"forecast_date\"]).dt.days,\n",
    "        ae=lambda df: df[\"y_pred\"].subtract(df[\"y_test\"]).abs()\n",
    "    )\n",
    ")"
   ]
  },
  {
   "cell_type": "markdown",
   "id": "0e71e40b-79bc-45f2-87d2-c0907c3081ff",
   "metadata": {},
   "source": [
    "### Check that we number of forecasts matches for both methods"
   ]
  },
  {
   "cell_type": "code",
   "execution_count": 4,
   "id": "d142600a-0e02-4926-a7e1-38f18f7f901f",
   "metadata": {},
   "outputs": [
    {
     "name": "stdout",
     "output_type": "stream",
     "text": [
      "model           horizon\n",
      "multi-horizon   1          11098360\n",
      "                7          10915420\n",
      "                14         10701990\n",
      "single-horizon  1          11098360\n",
      "                7          10915420\n",
      "                14         10701990\n",
      "dtype: int64\n"
     ]
    }
   ],
   "source": [
    "print(results.groupby([\"model\", \"horizon\"]).size())"
   ]
  },
  {
   "cell_type": "code",
   "execution_count": 5,
   "id": "9ac624c6-e781-434b-89a9-4a0ad0aff0b6",
   "metadata": {},
   "outputs": [
    {
     "data": {
      "image/png": "[encoded data removed]",
      "text/plain": [
       "<Figure size 600x300 with 1 Axes>"
      ]
     },
     "metadata": {},
     "output_type": "display_data"
    }
   ],
   "source": [
    "import matplotlib.pyplot as plt\n",
    "plt.style.use(\"seaborn-v0_8-colorblind\")\n",
    "\n",
    "(\n",
    "    results\n",
    "    .groupby([\"model\", \"horizon\"])\n",
    "    [\"ae\"]\n",
    "    .mean()\n",
    "    .unstack(level=0)\n",
    "    .rename(columns={\"multi-horizon\": \"Macking\", \"single-horizon\": \"Direct Method\"})\n",
    "    .plot\n",
    "    .barh(figsize=(6, 3))\n",
    ")\n",
    "\n",
    "plt.title(\"Mean Absolute Error\")\n",
    "plt.ylabel(\"Horizon\", rotation=0, labelpad=20)\n",
    "plt.legend(loc=\"upper left\", bbox_to_anchor=(1, 1))\n",
    "plt.tight_layout()\n",
    "plt.show()"
   ]
  }
 ],
 "metadata": {
  "kernelspec": {
   "display_name": "Python 3 (ipykernel)",
   "language": "python",
   "name": "python3"
  },
  "language_info": {
   "codemirror_mode": {
    "name": "ipython",
    "version": 3
   },
   "file_extension": ".py",
   "mimetype": "text/x-python",
   "name": "python",
   "nbconvert_exporter": "python",
   "pygments_lexer": "ipython3",
   "version": "3.11.2"
  }
 },
 "nbformat": 4,
 "nbformat_minor": 5
}
