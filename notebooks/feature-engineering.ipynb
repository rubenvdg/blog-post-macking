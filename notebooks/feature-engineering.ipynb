{
 "cells": [
  {
   "cell_type": "code",
   "execution_count": 1,
   "id": "4662becc-7301-4f2c-8d6c-40cf91291b05",
   "metadata": {},
   "outputs": [],
   "source": [
    "import polars as pl"
   ]
  },
  {
   "cell_type": "markdown",
   "id": "d83ceb9e-2974-43a9-a375-305a2df4f18f",
   "metadata": {},
   "source": [
    "### Read the data"
   ]
  },
  {
   "cell_type": "code",
   "execution_count": 2,
   "id": "bcf4e339-8f0d-45a2-9125-7d6576243420",
   "metadata": {},
   "outputs": [],
   "source": [
    "calendar = (\n",
    "    pl.read_csv(\n",
    "        \"../data/calendar.csv\",\n",
    "        dtypes={\n",
    "            \"date\": pl.Date(),\n",
    "            \"weekday\": pl.Categorical(),\n",
    "            \"month\": pl.Categorical(),\n",
    "            \"event_name_1\": pl.Categorical(),\n",
    "            \"event_type_1\": pl.Categorical(),\n",
    "            \"event_name_2\": pl.Categorical(),\n",
    "            \"event_type_2\": pl.Categorical(),\n",
    "            \"snap_CA\": pl.Categorical(),\n",
    "            \"snap_TX\": pl.Categorical(),\n",
    "            \"snap_WI\": pl.Categorical(),\n",
    "        }\n",
    "    )\n",
    "    .rename({\"d\": \"date_index\"})\n",
    ")\n",
    "\n",
    "sales = pl.read_csv(\n",
    "    \"../data/sales_train_validation.csv\",\n",
    "    dtypes={\n",
    "        \"id\": pl.Categorical(),\n",
    "        \"item_id\": pl.Categorical(),\n",
    "        \"store_id\": pl.Categorical(),\n",
    "        \"dept_id\": pl.Categorical(),\n",
    "        \"cat_id\": pl.Categorical(),\n",
    "        \"state_id\": pl.Categorical(),\n",
    "    }\n",
    ")"
   ]
  },
  {
   "cell_type": "markdown",
   "id": "c97ea68a-9513-4c6f-8f1f-8ff9ab5aa3b7",
   "metadata": {},
   "source": [
    "### Preprocess the data"
   ]
  },
  {
   "cell_type": "code",
   "execution_count": 3,
   "id": "dc7f5e27-9b8a-417e-b9bb-e60c4d3637c8",
   "metadata": {},
   "outputs": [],
   "source": [
    "df = (\n",
    "    sales\n",
    "    .melt(\n",
    "        id_vars=[\"id\", \"item_id\", \"dept_id\", \"cat_id\", \"store_id\", \"state_id\"],\n",
    "        value_name=\"sales\"\n",
    "    )\n",
    "    .rename({\"variable\": \"date_index\"})\n",
    "    .join(calendar, on=\"date_index\", how=\"left\", validate=\"m:1\")\n",
    "    .filter(pl.col(\"date\").dt.year().is_in((2012, 2013)))\n",
    "    .with_columns(\n",
    "        (pl.col(\"date\").dt.year() + pl.col(\"date\").dt.ordinal_day() / 365).alias(\"time_linear\")\n",
    "    )\n",
    ")\n",
    "\n",
    "assert df.group_by(\"item_id\", \"store_id\", \"date_index\").count().filter(pl.col(\"count\") > 1).is_empty()\n",
    "\n",
    "target = \"sales\"\n",
    "numerical_features = [\"time_linear\"]\n",
    "categorical_features = [\n",
    "    \"item_id\",\n",
    "    \"store_id\",\n",
    "    \"dept_id\",\n",
    "    \"cat_id\",\n",
    "    \"state_id\",\n",
    "    \"weekday\",\n",
    "    \"month\",\n",
    "    \"event_name_1\",\n",
    "    \"event_type_1\",\n",
    "    \"event_name_2\",\n",
    "    \"event_type_2\",\n",
    "    \"snap_CA\",\n",
    "    \"snap_TX\",\n",
    "    \"snap_WI\"\n",
    "]\n",
    "\n",
    "df = (\n",
    "    df.select(target, \"date\", *numerical_features, *categorical_features)\n",
    "    .sort(\"date\", \"store_id\", \"item_id\")\n",
    ")"
   ]
  },
  {
   "cell_type": "code",
   "execution_count": 4,
   "id": "bc066c99-5f13-49dd-ab07-b06dec687621",
   "metadata": {},
   "outputs": [],
   "source": [
    "assert df.group_by(\"store_id\", \"item_id\", \"date\").count().filter(pl.col(\"count\") > 1).is_empty()"
   ]
  },
  {
   "cell_type": "markdown",
   "id": "ca34e274-2fb6-4a9f-8bc0-c3594d63e885",
   "metadata": {},
   "source": [
    "### Add lags \n",
    "\n",
    "The names of the features indicate for which model (i.e., for which _horizon_) the features are available.\n",
    "In doing so, we assume that if you forecast on November 8 for November 9 (i.e., horizon=1), we have observed the sales on November 8.\n",
    "\n",
    "For example, `lag_1___max_horizon_1` simply indicates that this feature is only available for models for a horizon of at most 1 (e.g. if you make a forecast on Monday for Wednesday, you cannot use sales of Tuesday because it did not yet realize).  "
   ]
  },
  {
   "cell_type": "code",
   "execution_count": 5,
   "id": "2ea78f12-8a8b-4e60-a71d-293ca5173550",
   "metadata": {},
   "outputs": [],
   "source": [
    "df = (\n",
    "    df.with_columns(\n",
    "        \n",
    "        # plain vanilla lags ...\n",
    "        *(pl.col(\"sales\").shift(i).over([\"store_id\", \"item_id\"]).alias(f\"lag_{i}___max_horizon_{i}\") for i in range(1, 8)),\n",
    "        \n",
    "        # and lags based on the day of the week\n",
    "        *(pl.col(\"sales\").shift(i).over([\"store_id\", \"item_id\", \"weekday\"]).alias(f\"lag_dow_{i}___max_horizon_{i * 7 - 1}\") for i in [1, 2, 3])\n",
    "        \n",
    "    )\n",
    ")"
   ]
  },
  {
   "cell_type": "markdown",
   "id": "66c27b62-c3eb-45c3-9172-55d01f385dcb",
   "metadata": {},
   "source": [
    "### Add moving averages\n",
    "\n",
    "For example, the feature \"ma_7d___max_horizon_2\" is a moving average of seven days that is only available to models with a horizon of at most 2 (so, if the date is 2012-01-09, then the corresponding feature is the average of the sales from 2012-01-01 until 2012-01-07, which is available on 2012-01-07 --- given that we assumed that we forecast at the end of the day).\n"
   ]
  },
  {
   "cell_type": "code",
   "execution_count": 6,
   "id": "e277bdc1-f704-430c-9589-2ebe4b4f8a85",
   "metadata": {
    "scrolled": true
   },
   "outputs": [],
   "source": [
    "from datetime import timedelta\n",
    "\n",
    "for period in (7, 14):\n",
    "    for lag in (1, 7, 14):\n",
    "        \n",
    "        moving_averages = (\n",
    "            df.rolling(\"date\", period=f\"{period}d\", offset=f\"-{period+lag}d\", by=[\"item_id\", \"store_id\"])\n",
    "            .agg(pl.col(\"sales\").mean().alias(f\"ma_{period}d___max_horizon_{lag}\"))\n",
    "        )\n",
    "        \n",
    "        df = df.join(moving_averages, how=\"left\", on=[\"store_id\", \"item_id\", \"date\"]).sort(\"date\")"
   ]
  },
  {
   "cell_type": "markdown",
   "id": "13155edd-0351-4bab-bd67-c3b2967351dd",
   "metadata": {},
   "source": [
    "### Add day-of-week based moving averages\n",
    "\n",
    "E.g. \"ma_dow_14d___max_horizon_7\" means a moving average of the last two corresponding day of weeks shifted by a week.\n",
    "So on Thursday 2013-07-25, it's the average of Thursday 2013-07-18 and 2013-07-11.\n"
   ]
  },
  {
   "cell_type": "code",
   "execution_count": 7,
   "id": "f72a620a-43cb-431c-b347-637e375a3098",
   "metadata": {},
   "outputs": [],
   "source": [
    "from datetime import timedelta\n",
    "\n",
    "for period in (7, 14, 28):\n",
    "    for lag in (7, 14):\n",
    "        \n",
    "        moving_averages = (\n",
    "            df.rolling(\"date\", period=f\"{period}d\", offset=f\"-{period+lag}d\", by=[\"item_id\", \"store_id\", \"weekday\"])\n",
    "            .agg(pl.col(\"sales\").mean().alias(f\"ma_dow_{period}d___max_horizon_{lag}\"))\n",
    "        )\n",
    "        \n",
    "        df = df.join(moving_averages, how=\"left\", on=[\"store_id\", \"item_id\", \"weekday\", \"date\"]).sort(\"date\")"
   ]
  },
  {
   "cell_type": "code",
   "execution_count": 8,
   "id": "e7b7e6a5-5943-4759-80dd-2f0d1766fc9a",
   "metadata": {},
   "outputs": [],
   "source": [
    "df.write_parquet(\"../data/features.parquet\")"
   ]
  }
 ],
 "metadata": {
  "kernelspec": {
   "display_name": "Python 3 (ipykernel)",
   "language": "python",
   "name": "python3"
  },
  "language_info": {
   "codemirror_mode": {
    "name": "ipython",
    "version": 3
   },
   "file_extension": ".py",
   "mimetype": "text/x-python",
   "name": "python",
   "nbconvert_exporter": "python",
   "pygments_lexer": "ipython3",
   "version": "3.11.2"
  }
 },
 "nbformat": 4,
 "nbformat_minor": 5
}
