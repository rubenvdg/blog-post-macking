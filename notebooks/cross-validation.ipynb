{
 "cells": [
  {
   "cell_type": "code",
   "execution_count": 1,
   "id": "bf447f58-093e-410a-86b1-92245c6af013",
   "metadata": {},
   "outputs": [],
   "source": [
    "import pandas as pd\n",
    "from lightgbm import LGBMRegressor\n",
    "\n",
    "from data_helpers import MaskedData, Data, Model, Feature, Features, TARGET, DATE_COLUMN"
   ]
  },
  {
   "cell_type": "markdown",
   "id": "f8282523-b2f4-4364-8818-5705bf6c3b31",
   "metadata": {},
   "source": [
    "### Set parameters"
   ]
  },
  {
   "cell_type": "code",
   "execution_count": 2,
   "id": "616a0005-68b1-435f-9aea-5209fb0e3c27",
   "metadata": {},
   "outputs": [],
   "source": [
    "params = {\n",
    "    'boosting_type': 'gbdt',\n",
    "    'objective': 'tweedie',\n",
    "    'tweedie_variance_power': 1.1,\n",
    "    'metric': 'rmse',\n",
    "    'subsample': 0.5,\n",
    "    'subsample_freq': 1,\n",
    "    'learning_rate': 0.03,\n",
    "    'num_leaves': 2**11-1, \n",
    "    'min_data_in_leaf': 2**12-1,\n",
    "    'feature_fraction': 0.5,\n",
    "    'n_estimators': 1400,\n",
    "    'boost_from_average': False,\n",
    "}\n",
    "\n",
    "horizons = [1, 7, 14]\n",
    "retrain_frequency = 60  # retrain every 60 days\n",
    "first_forecast_date = pd.Timestamp(\"2013-01-01\")  # we assume that on the forecast date, we have observed the sales of that date"
   ]
  },
  {
   "cell_type": "markdown",
   "id": "1d6028b6-425d-44c2-8eb7-8e54d4e7bd4e",
   "metadata": {},
   "source": [
    "### Read features"
   ]
  },
  {
   "cell_type": "code",
   "execution_count": 3,
   "id": "4e309523-1da4-4a8e-9ab9-a72869bf5e2a",
   "metadata": {
    "scrolled": true
   },
   "outputs": [],
   "source": [
    "data = (\n",
    "    pd.read_parquet(\"../data/features.parquet\")\n",
    "    .assign(date=lambda df: pd.to_datetime(df[\"date\"]))\n",
    "    .set_index(\"date\")\n",
    "    .sort_index()\n",
    ")\n",
    "\n",
    "features = Features(feature_names=[col for col in data.columns if col not in [TARGET, DATE_COLUMN]])"
   ]
  },
  {
   "cell_type": "markdown",
   "id": "5c0de887-c737-4dad-b808-f1c769a8d432",
   "metadata": {},
   "source": [
    "### Initialize models"
   ]
  },
  {
   "cell_type": "code",
   "execution_count": 4,
   "id": "d8203d53-5e4a-4c11-94c2-6cd7f58e6d45",
   "metadata": {},
   "outputs": [],
   "source": [
    "direct_method_models = {\n",
    "    horizon: Model(model=LGBMRegressor(**params, verbose=-1), data=Data(data, horizons=[horizon], features=features))\n",
    "    for horizon in horizons\n",
    "}\n",
    "\n",
    "multi_horizon_model = Model(model=LGBMRegressor(**params, verbose=-1), data=MaskedData(data, horizons=horizons, features=features))"
   ]
  },
  {
   "cell_type": "markdown",
   "id": "830ae704-9015-4e13-a1ce-b496ed40e137",
   "metadata": {},
   "source": [
    "### Run cross validation\n",
    "We forecast every day, but retrain only once every `retrain_frequency` days."
   ]
  },
  {
   "cell_type": "code",
   "execution_count": 5,
   "id": "fed86df3-1b4b-44a4-8efb-5fffb221a6a0",
   "metadata": {},
   "outputs": [
    {
     "name": "stdout",
     "output_type": "stream",
     "text": [
      "retraining model on 2013-01-01 00:00:00\n",
      "retraining model on 2013-03-02 00:00:00\n",
      "retraining model on 2013-05-01 00:00:00\n",
      "retraining model on 2013-06-30 00:00:00\n",
      "retraining model on 2013-08-29 00:00:00\n",
      "retraining model on 2013-10-28 00:00:00\n",
      "retraining model on 2013-12-27 00:00:00\n"
     ]
    }
   ],
   "source": [
    "forecast_date = first_forecast_date\n",
    "\n",
    "results = []\n",
    "\n",
    "for i, forecast_date in enumerate(pd.date_range(first_forecast_date, periods=365, freq=\"D\")):\n",
    "\n",
    "    if not i % retrain_frequency:\n",
    "        print(f\"retraining model on {forecast_date}\")\n",
    "\n",
    "        # train separate models\n",
    "        for horizon, model in direct_method_models.items():\n",
    "            X_train, y_train = model.data.get_train_data(forecast_date)\n",
    "            model.model.fit(X_train, y_train)\n",
    "\n",
    "        # train single model\n",
    "        X_train, y_train = multi_horizon_model.data.get_train_data(forecast_date)\n",
    "        multi_horizon_model.model.fit(X_train, y_train)\n",
    "\n",
    "    # predict separate models\n",
    "    for horizon, model in direct_method_models.items():\n",
    "        X_test, y_test, _ = model.data.get_test_data(forecast_date)\n",
    "        \n",
    "        if X_test.empty:\n",
    "            continue\n",
    "\n",
    "        y_pred = model.model.predict(X_test)\n",
    "        result = X_test.assign(y_pred=y_pred, y_test=y_test, forecast_date=forecast_date, model=\"single-horizon\")\n",
    "        results.append(result)\n",
    "\n",
    "    # predict single model\n",
    "    X_test, y_test = multi_horizon_model.data.get_test_data(forecast_date)\n",
    "    \n",
    "    if X_test.empty: \n",
    "        continue\n",
    "\n",
    "    y_pred = multi_horizon_model.model.predict(X_test)\n",
    "    result = X_test.assign(y_pred=y_pred, y_test=y_test, forecast_date=forecast_date, model=\"multi-horizon\")\n",
    "    results.append(result)"
   ]
  },
  {
   "cell_type": "code",
   "execution_count": 6,
   "id": "17c4216b-83e4-43b0-8ad1-5737bf3bf7a2",
   "metadata": {},
   "outputs": [
    {
     "name": "stdout",
     "output_type": "stream",
     "text": [
      "Written results to 20240222_13_40_36_retrain_freq_60.parquet\n"
     ]
    }
   ],
   "source": [
    "from datetime import datetime \n",
    "ts = datetime.now().strftime(\"%Y%m%d_%H_%M_%S\")\n",
    "file_name = f\"{ts}_retrain_freq_{retrain_frequency}.parquet\"\n",
    "pd.concat(results).to_parquet(f\"../results/{file_name}\")\n",
    "print(f\"Written results to {file_name}\")"
   ]
  }
 ],
 "metadata": {
  "kernelspec": {
   "display_name": "Python 3 (ipykernel)",
   "language": "python",
   "name": "python3"
  },
  "language_info": {
   "codemirror_mode": {
    "name": "ipython",
    "version": 3
   },
   "file_extension": ".py",
   "mimetype": "text/x-python",
   "name": "python",
   "nbconvert_exporter": "python",
   "pygments_lexer": "ipython3",
   "version": "3.11.2"
  }
 },
 "nbformat": 4,
 "nbformat_minor": 5
}
